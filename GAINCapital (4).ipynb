{
  "nbformat": 4,
  "nbformat_minor": 0,
  "metadata": {
    "colab": {
      "name": "GAINCapital.ipynb",
      "provenance": [],
      "collapsed_sections": [],
      "toc_visible": true
    },
    "kernelspec": {
      "name": "python3",
      "display_name": "Python 3"
    }
  },
  "cells": [
    {
      "cell_type": "markdown",
      "metadata": {
        "id": "TN-n4jtz976H",
        "colab_type": "text"
      },
      "source": [
        "# Clustering GAINCapital clients with K_Means\n",
        "#### *Author: Taras Poltorak*\n",
        "#### *Date: 29/04/2020*\n",
        "\n",
        "\n",
        "## Introduction\n",
        "\n",
        "The point of this exercise is to apply a K-Means clustering algorithm to a dataset of clients based on their age, trading experience, income etc.\n"
      ]
    },
    {
      "cell_type": "code",
      "metadata": {
        "id": "xljQupmY8Y8_",
        "colab_type": "code",
        "colab": {}
      },
      "source": [
        "#Import libraries\n",
        "import numpy as np\n",
        "import pandas as pd\n",
        "import matplotlib.pyplot as plt\n",
        "from sklearn.cluster import KMeans\n",
        "from sklearn.decomposition import PCA\n",
        "import pylab as pl"
      ],
      "execution_count": 0,
      "outputs": []
    },
    {
      "cell_type": "markdown",
      "metadata": {
        "id": "7Bo_q5aE-2lY",
        "colab_type": "text"
      },
      "source": [
        "We read in the Excel file and load it into a dataframe. Now we can have a look at the data."
      ]
    },
    {
      "cell_type": "code",
      "metadata": {
        "id": "x8vU6O_K98Ca",
        "colab_type": "code",
        "colab": {}
      },
      "source": [
        "df = pd.read_excel (r'/content/Clustering_CaseStudy_28042020.xlsx')\n",
        "df = df.drop(['BK_ApplicationId'], axis=1)\n",
        "\n"
      ],
      "execution_count": 0,
      "outputs": []
    },
    {
      "cell_type": "code",
      "metadata": {
        "id": "44dSDczArvpK",
        "colab_type": "code",
        "colab": {}
      },
      "source": [
        "df.insert(0, \"ID\", df.index + 1)"
      ],
      "execution_count": 0,
      "outputs": []
    },
    {
      "cell_type": "code",
      "metadata": {
        "id": "yv6HOfSYszBU",
        "colab_type": "code",
        "colab": {
          "base_uri": "https://localhost:8080/",
          "height": 299
        },
        "outputId": "fcd880cf-0a95-461a-dac3-3742bb84c772"
      },
      "source": [
        "df.head(3)"
      ],
      "execution_count": 53,
      "outputs": [
        {
          "output_type": "execute_result",
          "data": {
            "text/html": [
              "<div>\n",
              "<style scoped>\n",
              "    .dataframe tbody tr th:only-of-type {\n",
              "        vertical-align: middle;\n",
              "    }\n",
              "\n",
              "    .dataframe tbody tr th {\n",
              "        vertical-align: top;\n",
              "    }\n",
              "\n",
              "    .dataframe thead th {\n",
              "        text-align: right;\n",
              "    }\n",
              "</style>\n",
              "<table border=\"1\" class=\"dataframe\">\n",
              "  <thead>\n",
              "    <tr style=\"text-align: right;\">\n",
              "      <th></th>\n",
              "      <th>ID</th>\n",
              "      <th>Service Offering</th>\n",
              "      <th>Age Score</th>\n",
              "      <th>Trading Experience Score</th>\n",
              "      <th>Net Worth Score</th>\n",
              "      <th>Income Score</th>\n",
              "      <th>Sales Channel</th>\n",
              "      <th>Sales Sub Channel</th>\n",
              "      <th>Age Group</th>\n",
              "      <th>Date of Birth</th>\n",
              "      <th>Gender</th>\n",
              "      <th>Device</th>\n",
              "      <th>Gender_Sort</th>\n",
              "      <th>Device_Sort</th>\n",
              "    </tr>\n",
              "  </thead>\n",
              "  <tbody>\n",
              "    <tr>\n",
              "      <th>0</th>\n",
              "      <td>1</td>\n",
              "      <td>FOREX.com US</td>\n",
              "      <td>2</td>\n",
              "      <td>2.0</td>\n",
              "      <td>1.5</td>\n",
              "      <td>2.0</td>\n",
              "      <td>Direct</td>\n",
              "      <td>Direct</td>\n",
              "      <td>18 - 25</td>\n",
              "      <td>Jan 20 1999 12:00AM</td>\n",
              "      <td>Male</td>\n",
              "      <td>iPhone</td>\n",
              "      <td>1</td>\n",
              "      <td>2</td>\n",
              "    </tr>\n",
              "    <tr>\n",
              "      <th>1</th>\n",
              "      <td>2</td>\n",
              "      <td>FOREX.com US</td>\n",
              "      <td>3</td>\n",
              "      <td>15.0</td>\n",
              "      <td>5.5</td>\n",
              "      <td>2.0</td>\n",
              "      <td>Direct</td>\n",
              "      <td>Direct</td>\n",
              "      <td>26 - 30</td>\n",
              "      <td>Nov 11 1991 12:00AM</td>\n",
              "      <td>Male</td>\n",
              "      <td>Desktop</td>\n",
              "      <td>1</td>\n",
              "      <td>1</td>\n",
              "    </tr>\n",
              "    <tr>\n",
              "      <th>2</th>\n",
              "      <td>3</td>\n",
              "      <td>FOREX.com US</td>\n",
              "      <td>2</td>\n",
              "      <td>5.0</td>\n",
              "      <td>2.5</td>\n",
              "      <td>2.0</td>\n",
              "      <td>Direct</td>\n",
              "      <td>Direct</td>\n",
              "      <td>18 - 25</td>\n",
              "      <td>Mar 22 1998 12:00AM</td>\n",
              "      <td>Male</td>\n",
              "      <td>Desktop</td>\n",
              "      <td>1</td>\n",
              "      <td>1</td>\n",
              "    </tr>\n",
              "  </tbody>\n",
              "</table>\n",
              "</div>"
            ],
            "text/plain": [
              "   ID Service Offering  Age Score  ...   Device  Gender_Sort  Device_Sort\n",
              "0   1     FOREX.com US          2  ...   iPhone            1            2\n",
              "1   2     FOREX.com US          3  ...  Desktop            1            1\n",
              "2   3     FOREX.com US          2  ...  Desktop            1            1\n",
              "\n",
              "[3 rows x 14 columns]"
            ]
          },
          "metadata": {
            "tags": []
          },
          "execution_count": 53
        }
      ]
    },
    {
      "cell_type": "markdown",
      "metadata": {
        "id": "JxahtrzqCd54",
        "colab_type": "text"
      },
      "source": [
        "We select the features which we will later use in our model. K-Means only works with numeric values.  Luckily, categorical features such as Age and Gender have already been scored, so we select all the numerical features.  There is a very small number of missing values in the dataset. Because the data is categorical we cannot impute them and, therefore, they will be removed. "
      ]
    },
    {
      "cell_type": "code",
      "metadata": {
        "id": "YK0tyNgdCdNa",
        "colab_type": "code",
        "outputId": "f0788078-d362-4ba7-db7b-1f699f9a345e",
        "colab": {
          "base_uri": "https://localhost:8080/",
          "height": 415
        }
      },
      "source": [
        "x = df.iloc[:, [2,3,4,5,12,13]] \n",
        "x = x.dropna()\n",
        "x = x.reset_index(drop=True)\n",
        "\n",
        "x"
      ],
      "execution_count": 54,
      "outputs": [
        {
          "output_type": "execute_result",
          "data": {
            "text/html": [
              "<div>\n",
              "<style scoped>\n",
              "    .dataframe tbody tr th:only-of-type {\n",
              "        vertical-align: middle;\n",
              "    }\n",
              "\n",
              "    .dataframe tbody tr th {\n",
              "        vertical-align: top;\n",
              "    }\n",
              "\n",
              "    .dataframe thead th {\n",
              "        text-align: right;\n",
              "    }\n",
              "</style>\n",
              "<table border=\"1\" class=\"dataframe\">\n",
              "  <thead>\n",
              "    <tr style=\"text-align: right;\">\n",
              "      <th></th>\n",
              "      <th>Age Score</th>\n",
              "      <th>Trading Experience Score</th>\n",
              "      <th>Net Worth Score</th>\n",
              "      <th>Income Score</th>\n",
              "      <th>Gender_Sort</th>\n",
              "      <th>Device_Sort</th>\n",
              "    </tr>\n",
              "  </thead>\n",
              "  <tbody>\n",
              "    <tr>\n",
              "      <th>0</th>\n",
              "      <td>2</td>\n",
              "      <td>2.0</td>\n",
              "      <td>1.5</td>\n",
              "      <td>2.0</td>\n",
              "      <td>1</td>\n",
              "      <td>2</td>\n",
              "    </tr>\n",
              "    <tr>\n",
              "      <th>1</th>\n",
              "      <td>3</td>\n",
              "      <td>15.0</td>\n",
              "      <td>5.5</td>\n",
              "      <td>2.0</td>\n",
              "      <td>1</td>\n",
              "      <td>1</td>\n",
              "    </tr>\n",
              "    <tr>\n",
              "      <th>2</th>\n",
              "      <td>2</td>\n",
              "      <td>5.0</td>\n",
              "      <td>2.5</td>\n",
              "      <td>2.0</td>\n",
              "      <td>1</td>\n",
              "      <td>1</td>\n",
              "    </tr>\n",
              "    <tr>\n",
              "      <th>3</th>\n",
              "      <td>2</td>\n",
              "      <td>8.0</td>\n",
              "      <td>3.5</td>\n",
              "      <td>3.0</td>\n",
              "      <td>2</td>\n",
              "      <td>3</td>\n",
              "    </tr>\n",
              "    <tr>\n",
              "      <th>4</th>\n",
              "      <td>2</td>\n",
              "      <td>1.0</td>\n",
              "      <td>3.5</td>\n",
              "      <td>3.0</td>\n",
              "      <td>1</td>\n",
              "      <td>1</td>\n",
              "    </tr>\n",
              "    <tr>\n",
              "      <th>...</th>\n",
              "      <td>...</td>\n",
              "      <td>...</td>\n",
              "      <td>...</td>\n",
              "      <td>...</td>\n",
              "      <td>...</td>\n",
              "      <td>...</td>\n",
              "    </tr>\n",
              "    <tr>\n",
              "      <th>244264</th>\n",
              "      <td>5</td>\n",
              "      <td>40.0</td>\n",
              "      <td>6.5</td>\n",
              "      <td>6.0</td>\n",
              "      <td>1</td>\n",
              "      <td>4</td>\n",
              "    </tr>\n",
              "    <tr>\n",
              "      <th>244265</th>\n",
              "      <td>2</td>\n",
              "      <td>0.0</td>\n",
              "      <td>1.5</td>\n",
              "      <td>3.0</td>\n",
              "      <td>1</td>\n",
              "      <td>4</td>\n",
              "    </tr>\n",
              "    <tr>\n",
              "      <th>244266</th>\n",
              "      <td>9</td>\n",
              "      <td>14.0</td>\n",
              "      <td>5.5</td>\n",
              "      <td>5.0</td>\n",
              "      <td>2</td>\n",
              "      <td>4</td>\n",
              "    </tr>\n",
              "    <tr>\n",
              "      <th>244267</th>\n",
              "      <td>9</td>\n",
              "      <td>60.0</td>\n",
              "      <td>4.5</td>\n",
              "      <td>6.0</td>\n",
              "      <td>1</td>\n",
              "      <td>4</td>\n",
              "    </tr>\n",
              "    <tr>\n",
              "      <th>244268</th>\n",
              "      <td>5</td>\n",
              "      <td>20.0</td>\n",
              "      <td>2.5</td>\n",
              "      <td>4.0</td>\n",
              "      <td>1</td>\n",
              "      <td>4</td>\n",
              "    </tr>\n",
              "  </tbody>\n",
              "</table>\n",
              "<p>244269 rows × 6 columns</p>\n",
              "</div>"
            ],
            "text/plain": [
              "        Age Score  Trading Experience Score  ...  Gender_Sort  Device_Sort\n",
              "0               2                       2.0  ...            1            2\n",
              "1               3                      15.0  ...            1            1\n",
              "2               2                       5.0  ...            1            1\n",
              "3               2                       8.0  ...            2            3\n",
              "4               2                       1.0  ...            1            1\n",
              "...           ...                       ...  ...          ...          ...\n",
              "244264          5                      40.0  ...            1            4\n",
              "244265          2                       0.0  ...            1            4\n",
              "244266          9                      14.0  ...            2            4\n",
              "244267          9                      60.0  ...            1            4\n",
              "244268          5                      20.0  ...            1            4\n",
              "\n",
              "[244269 rows x 6 columns]"
            ]
          },
          "metadata": {
            "tags": []
          },
          "execution_count": 54
        }
      ]
    },
    {
      "cell_type": "code",
      "metadata": {
        "id": "catBqdY0D7A9",
        "colab_type": "code",
        "outputId": "5a080098-5d54-4239-8fd0-5705552b8bde",
        "colab": {
          "base_uri": "https://localhost:8080/",
          "height": 294
        }
      },
      "source": [
        "x.describe()"
      ],
      "execution_count": 55,
      "outputs": [
        {
          "output_type": "execute_result",
          "data": {
            "text/html": [
              "<div>\n",
              "<style scoped>\n",
              "    .dataframe tbody tr th:only-of-type {\n",
              "        vertical-align: middle;\n",
              "    }\n",
              "\n",
              "    .dataframe tbody tr th {\n",
              "        vertical-align: top;\n",
              "    }\n",
              "\n",
              "    .dataframe thead th {\n",
              "        text-align: right;\n",
              "    }\n",
              "</style>\n",
              "<table border=\"1\" class=\"dataframe\">\n",
              "  <thead>\n",
              "    <tr style=\"text-align: right;\">\n",
              "      <th></th>\n",
              "      <th>Age Score</th>\n",
              "      <th>Trading Experience Score</th>\n",
              "      <th>Net Worth Score</th>\n",
              "      <th>Income Score</th>\n",
              "      <th>Gender_Sort</th>\n",
              "      <th>Device_Sort</th>\n",
              "    </tr>\n",
              "  </thead>\n",
              "  <tbody>\n",
              "    <tr>\n",
              "      <th>count</th>\n",
              "      <td>244269.000000</td>\n",
              "      <td>244269.000000</td>\n",
              "      <td>244269.000000</td>\n",
              "      <td>244269.000000</td>\n",
              "      <td>244269.000000</td>\n",
              "      <td>244269.000000</td>\n",
              "    </tr>\n",
              "    <tr>\n",
              "      <th>mean</th>\n",
              "      <td>3.493800</td>\n",
              "      <td>2.789564</td>\n",
              "      <td>2.544408</td>\n",
              "      <td>2.543638</td>\n",
              "      <td>1.247072</td>\n",
              "      <td>1.894620</td>\n",
              "    </tr>\n",
              "    <tr>\n",
              "      <th>std</th>\n",
              "      <td>2.068643</td>\n",
              "      <td>4.763226</td>\n",
              "      <td>1.236644</td>\n",
              "      <td>1.382431</td>\n",
              "      <td>0.450184</td>\n",
              "      <td>0.763293</td>\n",
              "    </tr>\n",
              "    <tr>\n",
              "      <th>min</th>\n",
              "      <td>1.000000</td>\n",
              "      <td>0.000000</td>\n",
              "      <td>1.000000</td>\n",
              "      <td>1.000000</td>\n",
              "      <td>1.000000</td>\n",
              "      <td>1.000000</td>\n",
              "    </tr>\n",
              "    <tr>\n",
              "      <th>25%</th>\n",
              "      <td>2.000000</td>\n",
              "      <td>0.000000</td>\n",
              "      <td>1.500000</td>\n",
              "      <td>1.000000</td>\n",
              "      <td>1.000000</td>\n",
              "      <td>1.000000</td>\n",
              "    </tr>\n",
              "    <tr>\n",
              "      <th>50%</th>\n",
              "      <td>3.000000</td>\n",
              "      <td>0.000000</td>\n",
              "      <td>2.500000</td>\n",
              "      <td>2.000000</td>\n",
              "      <td>1.000000</td>\n",
              "      <td>2.000000</td>\n",
              "    </tr>\n",
              "    <tr>\n",
              "      <th>75%</th>\n",
              "      <td>4.000000</td>\n",
              "      <td>4.000000</td>\n",
              "      <td>3.500000</td>\n",
              "      <td>3.000000</td>\n",
              "      <td>1.000000</td>\n",
              "      <td>2.000000</td>\n",
              "    </tr>\n",
              "    <tr>\n",
              "      <th>max</th>\n",
              "      <td>10.000000</td>\n",
              "      <td>80.000000</td>\n",
              "      <td>7.000000</td>\n",
              "      <td>8.000000</td>\n",
              "      <td>3.000000</td>\n",
              "      <td>4.000000</td>\n",
              "    </tr>\n",
              "  </tbody>\n",
              "</table>\n",
              "</div>"
            ],
            "text/plain": [
              "           Age Score  Trading Experience Score  ...    Gender_Sort    Device_Sort\n",
              "count  244269.000000             244269.000000  ...  244269.000000  244269.000000\n",
              "mean        3.493800                  2.789564  ...       1.247072       1.894620\n",
              "std         2.068643                  4.763226  ...       0.450184       0.763293\n",
              "min         1.000000                  0.000000  ...       1.000000       1.000000\n",
              "25%         2.000000                  0.000000  ...       1.000000       1.000000\n",
              "50%         3.000000                  0.000000  ...       1.000000       2.000000\n",
              "75%         4.000000                  4.000000  ...       1.000000       2.000000\n",
              "max        10.000000                 80.000000  ...       3.000000       4.000000\n",
              "\n",
              "[8 rows x 6 columns]"
            ]
          },
          "metadata": {
            "tags": []
          },
          "execution_count": 55
        }
      ]
    },
    {
      "cell_type": "code",
      "metadata": {
        "id": "KPeT9QDApMVF",
        "colab_type": "code",
        "colab": {}
      },
      "source": [
        "# At the end of this exercise we will add a column with clusters to the original dataframe, so we remove the missing values from it now \n",
        "# so that the data aligns later.\n",
        "\n",
        "\n",
        "df = df.dropna()\n",
        "df = df.reset_index(drop=True)"
      ],
      "execution_count": 0,
      "outputs": []
    },
    {
      "cell_type": "markdown",
      "metadata": {
        "id": "fDKSe_0z_yJN",
        "colab_type": "text"
      },
      "source": [
        "## Standardising Values (Z-score)\n",
        "\n",
        "Because K-Means uses distance calculations between values, we must standardise our features so that they are all within the same range. This will avoid one feature dominating others."
      ]
    },
    {
      "cell_type": "code",
      "metadata": {
        "id": "lD6dK97sCuMt",
        "colab_type": "code",
        "outputId": "50d7e0d9-02c5-4d19-860c-bea83239b417",
        "colab": {
          "base_uri": "https://localhost:8080/",
          "height": 415
        }
      },
      "source": [
        "# Z-score\n",
        "\n",
        "x = (x - x.mean())/x.std()\n",
        "x"
      ],
      "execution_count": 57,
      "outputs": [
        {
          "output_type": "execute_result",
          "data": {
            "text/html": [
              "<div>\n",
              "<style scoped>\n",
              "    .dataframe tbody tr th:only-of-type {\n",
              "        vertical-align: middle;\n",
              "    }\n",
              "\n",
              "    .dataframe tbody tr th {\n",
              "        vertical-align: top;\n",
              "    }\n",
              "\n",
              "    .dataframe thead th {\n",
              "        text-align: right;\n",
              "    }\n",
              "</style>\n",
              "<table border=\"1\" class=\"dataframe\">\n",
              "  <thead>\n",
              "    <tr style=\"text-align: right;\">\n",
              "      <th></th>\n",
              "      <th>Age Score</th>\n",
              "      <th>Trading Experience Score</th>\n",
              "      <th>Net Worth Score</th>\n",
              "      <th>Income Score</th>\n",
              "      <th>Gender_Sort</th>\n",
              "      <th>Device_Sort</th>\n",
              "    </tr>\n",
              "  </thead>\n",
              "  <tbody>\n",
              "    <tr>\n",
              "      <th>0</th>\n",
              "      <td>-0.722116</td>\n",
              "      <td>-0.165762</td>\n",
              "      <td>-0.844550</td>\n",
              "      <td>-0.393248</td>\n",
              "      <td>-0.548824</td>\n",
              "      <td>0.138059</td>\n",
              "    </tr>\n",
              "    <tr>\n",
              "      <th>1</th>\n",
              "      <td>-0.238707</td>\n",
              "      <td>2.563481</td>\n",
              "      <td>2.390011</td>\n",
              "      <td>-0.393248</td>\n",
              "      <td>-0.548824</td>\n",
              "      <td>-1.172054</td>\n",
              "    </tr>\n",
              "    <tr>\n",
              "      <th>2</th>\n",
              "      <td>-0.722116</td>\n",
              "      <td>0.464063</td>\n",
              "      <td>-0.035910</td>\n",
              "      <td>-0.393248</td>\n",
              "      <td>-0.548824</td>\n",
              "      <td>-1.172054</td>\n",
              "    </tr>\n",
              "    <tr>\n",
              "      <th>3</th>\n",
              "      <td>-0.722116</td>\n",
              "      <td>1.093888</td>\n",
              "      <td>0.772730</td>\n",
              "      <td>0.330115</td>\n",
              "      <td>1.672490</td>\n",
              "      <td>1.448173</td>\n",
              "    </tr>\n",
              "    <tr>\n",
              "      <th>4</th>\n",
              "      <td>-0.722116</td>\n",
              "      <td>-0.375704</td>\n",
              "      <td>0.772730</td>\n",
              "      <td>0.330115</td>\n",
              "      <td>-0.548824</td>\n",
              "      <td>-1.172054</td>\n",
              "    </tr>\n",
              "    <tr>\n",
              "      <th>...</th>\n",
              "      <td>...</td>\n",
              "      <td>...</td>\n",
              "      <td>...</td>\n",
              "      <td>...</td>\n",
              "      <td>...</td>\n",
              "      <td>...</td>\n",
              "    </tr>\n",
              "    <tr>\n",
              "      <th>244264</th>\n",
              "      <td>0.728110</td>\n",
              "      <td>7.812025</td>\n",
              "      <td>3.198651</td>\n",
              "      <td>2.500206</td>\n",
              "      <td>-0.548824</td>\n",
              "      <td>2.758286</td>\n",
              "    </tr>\n",
              "    <tr>\n",
              "      <th>244265</th>\n",
              "      <td>-0.722116</td>\n",
              "      <td>-0.585646</td>\n",
              "      <td>-0.844550</td>\n",
              "      <td>0.330115</td>\n",
              "      <td>-0.548824</td>\n",
              "      <td>2.758286</td>\n",
              "    </tr>\n",
              "    <tr>\n",
              "      <th>244266</th>\n",
              "      <td>2.661745</td>\n",
              "      <td>2.353539</td>\n",
              "      <td>2.390011</td>\n",
              "      <td>1.776843</td>\n",
              "      <td>1.672490</td>\n",
              "      <td>2.758286</td>\n",
              "    </tr>\n",
              "    <tr>\n",
              "      <th>244267</th>\n",
              "      <td>2.661745</td>\n",
              "      <td>12.010860</td>\n",
              "      <td>1.581371</td>\n",
              "      <td>2.500206</td>\n",
              "      <td>-0.548824</td>\n",
              "      <td>2.758286</td>\n",
              "    </tr>\n",
              "    <tr>\n",
              "      <th>244268</th>\n",
              "      <td>0.728110</td>\n",
              "      <td>3.613189</td>\n",
              "      <td>-0.035910</td>\n",
              "      <td>1.053479</td>\n",
              "      <td>-0.548824</td>\n",
              "      <td>2.758286</td>\n",
              "    </tr>\n",
              "  </tbody>\n",
              "</table>\n",
              "<p>244269 rows × 6 columns</p>\n",
              "</div>"
            ],
            "text/plain": [
              "        Age Score  Trading Experience Score  ...  Gender_Sort  Device_Sort\n",
              "0       -0.722116                 -0.165762  ...    -0.548824     0.138059\n",
              "1       -0.238707                  2.563481  ...    -0.548824    -1.172054\n",
              "2       -0.722116                  0.464063  ...    -0.548824    -1.172054\n",
              "3       -0.722116                  1.093888  ...     1.672490     1.448173\n",
              "4       -0.722116                 -0.375704  ...    -0.548824    -1.172054\n",
              "...           ...                       ...  ...          ...          ...\n",
              "244264   0.728110                  7.812025  ...    -0.548824     2.758286\n",
              "244265  -0.722116                 -0.585646  ...    -0.548824     2.758286\n",
              "244266   2.661745                  2.353539  ...     1.672490     2.758286\n",
              "244267   2.661745                 12.010860  ...    -0.548824     2.758286\n",
              "244268   0.728110                  3.613189  ...    -0.548824     2.758286\n",
              "\n",
              "[244269 rows x 6 columns]"
            ]
          },
          "metadata": {
            "tags": []
          },
          "execution_count": 57
        }
      ]
    },
    {
      "cell_type": "markdown",
      "metadata": {
        "id": "ApEO3l35BjGe",
        "colab_type": "text"
      },
      "source": [
        "## Perform PCA"
      ]
    },
    {
      "cell_type": "code",
      "metadata": {
        "id": "1kIFWMrS_cZI",
        "colab_type": "code",
        "colab": {}
      },
      "source": [
        "pca = PCA(n_components=2).fit(x)\n",
        "pca_2d = pca.transform(x)\n",
        "\n",
        "\n"
      ],
      "execution_count": 0,
      "outputs": []
    },
    {
      "cell_type": "code",
      "metadata": {
        "id": "Roe4PtzD4Zkc",
        "colab_type": "code",
        "outputId": "2bf1e3a8-eb3f-4c77-e996-a224250a1f7f",
        "colab": {
          "base_uri": "https://localhost:8080/",
          "height": 35
        }
      },
      "source": [
        "pca_2d.shape"
      ],
      "execution_count": 59,
      "outputs": [
        {
          "output_type": "execute_result",
          "data": {
            "text/plain": [
              "(244269, 2)"
            ]
          },
          "metadata": {
            "tags": []
          },
          "execution_count": 59
        }
      ]
    },
    {
      "cell_type": "markdown",
      "metadata": {
        "id": "0G3hHBB6BUI8",
        "colab_type": "text"
      },
      "source": [
        "## Model Training and Evaluation\n",
        "\n",
        "The first time K-Means is applied to a dataset the number of clusters is set randomly.  Although, it has to be noted, very often Data Scientist will have some idea about the expected clusters. This comes from practical knowledge about the data. In this instance, however, I have no prior knowledge about the clients and the number 5 is chosen randomly."
      ]
    },
    {
      "cell_type": "code",
      "metadata": {
        "id": "d80k9FY_BZAf",
        "colab_type": "code",
        "colab": {}
      },
      "source": [
        "kmeans5 = KMeans(n_clusters=5)\n",
        "y_kmeans5 = kmeans5.fit_predict(pca_2d)\n",
        "\n",
        "\n",
        "\n"
      ],
      "execution_count": 0,
      "outputs": []
    },
    {
      "cell_type": "code",
      "metadata": {
        "id": "Mg_A61Mo-6SG",
        "colab_type": "code",
        "outputId": "ca55d7cb-8809-46ce-b8fc-1caf73ed0c79",
        "colab": {
          "base_uri": "https://localhost:8080/",
          "height": 104
        }
      },
      "source": [
        "kmeans5.cluster_centers_\n"
      ],
      "execution_count": 61,
      "outputs": [
        {
          "output_type": "execute_result",
          "data": {
            "text/plain": [
              "array([[-0.97389479, -0.75987649],\n",
              "       [ 3.41497527, -0.05354191],\n",
              "       [ 0.84215875,  1.28533258],\n",
              "       [-1.18273298,  0.96067555],\n",
              "       [ 0.82437968, -0.61803855]])"
            ]
          },
          "metadata": {
            "tags": []
          },
          "execution_count": 61
        }
      ]
    },
    {
      "cell_type": "markdown",
      "metadata": {
        "id": "gLVNyOlnCEIM",
        "colab_type": "text"
      },
      "source": [
        "To asses the optimal number of clusters we use the Elbow Method."
      ]
    },
    {
      "cell_type": "code",
      "metadata": {
        "id": "P98J5vRU35XE",
        "colab_type": "code",
        "outputId": "20d38b24-3f65-413d-cc4a-99d4b5a3735f",
        "colab": {
          "base_uri": "https://localhost:8080/",
          "height": 295
        }
      },
      "source": [
        "\n",
        "\n",
        "Error =[]\n",
        "for i in range(1, 11):\n",
        "    kmeans = KMeans(n_clusters = i).fit(pca_2d)\n",
        "    kmeans.fit(pca_2d)\n",
        "    Error.append(kmeans.inertia_)\n",
        "# import matplotlib.pyplot as plt\n",
        "plt.plot(range(1, 11), Error)\n",
        "plt.title('Elbow method')\n",
        "plt.xlabel('No of clusters')\n",
        "plt.ylabel('Error')\n",
        "plt.show()"
      ],
      "execution_count": 62,
      "outputs": [
        {
          "output_type": "display_data",
          "data": {
            "image/png": "[encoded data removed]",
            "text/plain": [
              "<Figure size 432x288 with 1 Axes>"
            ]
          },
          "metadata": {
            "tags": [],
            "needs_background": "light"
          }
        }
      ]
    },
    {
      "cell_type": "markdown",
      "metadata": {
        "id": "kDYeXYZkCLHp",
        "colab_type": "text"
      },
      "source": [
        "Now we re-run our model with 3 clusters."
      ]
    },
    {
      "cell_type": "code",
      "metadata": {
        "id": "ajnjxCLX5iF1",
        "colab_type": "code",
        "outputId": "14fb99a5-457b-4623-ace2-de2d81b299fd",
        "colab": {
          "base_uri": "https://localhost:8080/",
          "height": 121
        }
      },
      "source": [
        "kmeans3 = KMeans(n_clusters=3)\n",
        "y_kmeans3 = kmeans3.fit_predict(x)\n",
        "\n",
        "\n",
        "kmeans3.cluster_centers_\n",
        "\n"
      ],
      "execution_count": 63,
      "outputs": [
        {
          "output_type": "execute_result",
          "data": {
            "text/plain": [
              "array([[-0.23508428, -0.37282168, -0.38331477, -0.36366256,  1.72867019,\n",
              "         0.1650796 ],\n",
              "       [-0.38150211, -0.25763763, -0.37104846, -0.3255052 , -0.54882426,\n",
              "         0.06749979],\n",
              "       [ 1.18997864,  1.00648467,  1.30395096,  1.1698645 , -0.24682761,\n",
              "        -0.32756952]])"
            ]
          },
          "metadata": {
            "tags": []
          },
          "execution_count": 63
        }
      ]
    },
    {
      "cell_type": "markdown",
      "metadata": {
        "id": "6B9Hg7lvCUbb",
        "colab_type": "text"
      },
      "source": [
        "In the above table the 3 rows refer to our clusters. The numbers across each row indicate the cluster's average value for the category listed at the top of the column. Because the values are standardised, positive values are above the overall mean and negative are bellow. The highest values are of most interest to their corresponding clusters.\n",
        "\n",
        "Now let's visualise our clusters."
      ]
    },
    {
      "cell_type": "code",
      "metadata": {
        "id": "Q3ThBiVFNo8a",
        "colab_type": "code",
        "outputId": "f05f8fbc-3444-4a58-fc09-181d8deeb120",
        "colab": {
          "base_uri": "https://localhost:8080/",
          "height": 299
        }
      },
      "source": [
        "pl.title('Clustered Data')\n",
        "pl.scatter(pca_2d[:, 0], pca_2d[:, 1], c=y_kmeans3, cmap= 'rainbow')\n",
        "kmeans = KMeans(n_clusters=3, random_state=111)\n",
        "pl.figure('K-means with 3 clusters')\n",
        "pl.show()"
      ],
      "execution_count": 64,
      "outputs": [
        {
          "output_type": "display_data",
          "data": {
            "image/png": "[encoded data removed]",
            "text/plain": [
              "<Figure size 432x288 with 1 Axes>"
            ]
          },
          "metadata": {
            "tags": [],
            "needs_background": "light"
          }
        },
        {
          "output_type": "display_data",
          "data": {
            "text/plain": [
              "<Figure size 432x288 with 0 Axes>"
            ]
          },
          "metadata": {
            "tags": []
          }
        }
      ]
    },
    {
      "cell_type": "code",
      "metadata": {
        "id": "5P38mzF5Yw-F",
        "colab_type": "code",
        "colab": {}
      },
      "source": [
        "# # Let's turn the numpy array of predictions into a dataframe object and add it as a cloumn to the original dataframe.\n",
        "\n",
        "predictions_df = pd.DataFrame(data=y_kmeans3)\n",
        "df['Cluster'] = predictions_df"
      ],
      "execution_count": 0,
      "outputs": []
    },
    {
      "cell_type": "code",
      "metadata": {
        "id": "V0Yn_DEbxVnw",
        "colab_type": "code",
        "outputId": "b09d3f1f-5bbe-4508-a34c-a17771404cba",
        "colab": {
          "base_uri": "https://localhost:8080/",
          "height": 277
        }
      },
      "source": [
        "list(df.columns)"
      ],
      "execution_count": 66,
      "outputs": [
        {
          "output_type": "execute_result",
          "data": {
            "text/plain": [
              "['ID',\n",
              " 'Service Offering',\n",
              " 'Age Score',\n",
              " 'Trading Experience Score',\n",
              " 'Net Worth Score',\n",
              " 'Income Score',\n",
              " 'Sales Channel',\n",
              " 'Sales Sub Channel',\n",
              " 'Age Group',\n",
              " 'Date of Birth',\n",
              " 'Gender',\n",
              " 'Device',\n",
              " 'Gender_Sort',\n",
              " 'Device_Sort',\n",
              " 'Cluster']"
            ]
          },
          "metadata": {
            "tags": []
          },
          "execution_count": 66
        }
      ]
    },
    {
      "cell_type": "markdown",
      "metadata": {
        "id": "uXVoGAXP0h1w",
        "colab_type": "text"
      },
      "source": [
        "So, we can see that the column **Clusters** has been added to the original dataframe."
      ]
    },
    {
      "cell_type": "code",
      "metadata": {
        "id": "TaPyvmWw0ZG_",
        "colab_type": "code",
        "outputId": "4cf41da8-1b71-43bc-9cb3-b1f79ba1fa4c",
        "colab": {
          "base_uri": "https://localhost:8080/",
          "height": 817
        }
      },
      "source": [
        "df"
      ],
      "execution_count": 67,
      "outputs": [
        {
          "output_type": "execute_result",
          "data": {
            "text/html": [
              "<div>\n",
              "<style scoped>\n",
              "    .dataframe tbody tr th:only-of-type {\n",
              "        vertical-align: middle;\n",
              "    }\n",
              "\n",
              "    .dataframe tbody tr th {\n",
              "        vertical-align: top;\n",
              "    }\n",
              "\n",
              "    .dataframe thead th {\n",
              "        text-align: right;\n",
              "    }\n",
              "</style>\n",
              "<table border=\"1\" class=\"dataframe\">\n",
              "  <thead>\n",
              "    <tr style=\"text-align: right;\">\n",
              "      <th></th>\n",
              "      <th>ID</th>\n",
              "      <th>Service Offering</th>\n",
              "      <th>Age Score</th>\n",
              "      <th>Trading Experience Score</th>\n",
              "      <th>Net Worth Score</th>\n",
              "      <th>Income Score</th>\n",
              "      <th>Sales Channel</th>\n",
              "      <th>Sales Sub Channel</th>\n",
              "      <th>Age Group</th>\n",
              "      <th>Date of Birth</th>\n",
              "      <th>Gender</th>\n",
              "      <th>Device</th>\n",
              "      <th>Gender_Sort</th>\n",
              "      <th>Device_Sort</th>\n",
              "      <th>Cluster</th>\n",
              "    </tr>\n",
              "  </thead>\n",
              "  <tbody>\n",
              "    <tr>\n",
              "      <th>0</th>\n",
              "      <td>1</td>\n",
              "      <td>FOREX.com US</td>\n",
              "      <td>2</td>\n",
              "      <td>2.0</td>\n",
              "      <td>1.5</td>\n",
              "      <td>2.0</td>\n",
              "      <td>Direct</td>\n",
              "      <td>Direct</td>\n",
              "      <td>18 - 25</td>\n",
              "      <td>Jan 20 1999 12:00AM</td>\n",
              "      <td>Male</td>\n",
              "      <td>iPhone</td>\n",
              "      <td>1</td>\n",
              "      <td>2</td>\n",
              "      <td>1</td>\n",
              "    </tr>\n",
              "    <tr>\n",
              "      <th>1</th>\n",
              "      <td>2</td>\n",
              "      <td>FOREX.com US</td>\n",
              "      <td>3</td>\n",
              "      <td>15.0</td>\n",
              "      <td>5.5</td>\n",
              "      <td>2.0</td>\n",
              "      <td>Direct</td>\n",
              "      <td>Direct</td>\n",
              "      <td>26 - 30</td>\n",
              "      <td>Nov 11 1991 12:00AM</td>\n",
              "      <td>Male</td>\n",
              "      <td>Desktop</td>\n",
              "      <td>1</td>\n",
              "      <td>1</td>\n",
              "      <td>2</td>\n",
              "    </tr>\n",
              "    <tr>\n",
              "      <th>2</th>\n",
              "      <td>3</td>\n",
              "      <td>FOREX.com US</td>\n",
              "      <td>2</td>\n",
              "      <td>5.0</td>\n",
              "      <td>2.5</td>\n",
              "      <td>2.0</td>\n",
              "      <td>Direct</td>\n",
              "      <td>Direct</td>\n",
              "      <td>18 - 25</td>\n",
              "      <td>Mar 22 1998 12:00AM</td>\n",
              "      <td>Male</td>\n",
              "      <td>Desktop</td>\n",
              "      <td>1</td>\n",
              "      <td>1</td>\n",
              "      <td>1</td>\n",
              "    </tr>\n",
              "    <tr>\n",
              "      <th>3</th>\n",
              "      <td>4</td>\n",
              "      <td>FOREX.com US</td>\n",
              "      <td>2</td>\n",
              "      <td>8.0</td>\n",
              "      <td>3.5</td>\n",
              "      <td>3.0</td>\n",
              "      <td>Direct</td>\n",
              "      <td>Direct</td>\n",
              "      <td>18 - 25</td>\n",
              "      <td>May 28 1994 12:00AM</td>\n",
              "      <td>Female</td>\n",
              "      <td>Android</td>\n",
              "      <td>2</td>\n",
              "      <td>3</td>\n",
              "      <td>0</td>\n",
              "    </tr>\n",
              "    <tr>\n",
              "      <th>4</th>\n",
              "      <td>5</td>\n",
              "      <td>FOREX.com US</td>\n",
              "      <td>2</td>\n",
              "      <td>1.0</td>\n",
              "      <td>3.5</td>\n",
              "      <td>3.0</td>\n",
              "      <td>Direct</td>\n",
              "      <td>Direct</td>\n",
              "      <td>18 - 25</td>\n",
              "      <td>Jun  3 1995 12:00AM</td>\n",
              "      <td>Male</td>\n",
              "      <td>Desktop</td>\n",
              "      <td>1</td>\n",
              "      <td>1</td>\n",
              "      <td>1</td>\n",
              "    </tr>\n",
              "    <tr>\n",
              "      <th>...</th>\n",
              "      <td>...</td>\n",
              "      <td>...</td>\n",
              "      <td>...</td>\n",
              "      <td>...</td>\n",
              "      <td>...</td>\n",
              "      <td>...</td>\n",
              "      <td>...</td>\n",
              "      <td>...</td>\n",
              "      <td>...</td>\n",
              "      <td>...</td>\n",
              "      <td>...</td>\n",
              "      <td>...</td>\n",
              "      <td>...</td>\n",
              "      <td>...</td>\n",
              "      <td>...</td>\n",
              "    </tr>\n",
              "    <tr>\n",
              "      <th>239472</th>\n",
              "      <td>244280</td>\n",
              "      <td>FOREX.com US</td>\n",
              "      <td>3</td>\n",
              "      <td>6.0</td>\n",
              "      <td>3.5</td>\n",
              "      <td>4.0</td>\n",
              "      <td>Direct</td>\n",
              "      <td>Direct</td>\n",
              "      <td>26 - 30</td>\n",
              "      <td>Dec  4 1992 12:00AM</td>\n",
              "      <td>Male</td>\n",
              "      <td>Desktop</td>\n",
              "      <td>1</td>\n",
              "      <td>1</td>\n",
              "      <td>1</td>\n",
              "    </tr>\n",
              "    <tr>\n",
              "      <th>239473</th>\n",
              "      <td>244281</td>\n",
              "      <td>FOREX.com US</td>\n",
              "      <td>3</td>\n",
              "      <td>0.0</td>\n",
              "      <td>1.5</td>\n",
              "      <td>3.0</td>\n",
              "      <td>Direct</td>\n",
              "      <td>Direct</td>\n",
              "      <td>26 - 30</td>\n",
              "      <td>Dec  6 1991 12:00AM</td>\n",
              "      <td>Male</td>\n",
              "      <td>iPhone</td>\n",
              "      <td>1</td>\n",
              "      <td>2</td>\n",
              "      <td>0</td>\n",
              "    </tr>\n",
              "    <tr>\n",
              "      <th>239474</th>\n",
              "      <td>244282</td>\n",
              "      <td>FOREX.com US</td>\n",
              "      <td>4</td>\n",
              "      <td>0.0</td>\n",
              "      <td>2.5</td>\n",
              "      <td>3.0</td>\n",
              "      <td>Direct</td>\n",
              "      <td>Direct</td>\n",
              "      <td>31 - 35</td>\n",
              "      <td>Feb 15 1984 12:00AM</td>\n",
              "      <td>Female</td>\n",
              "      <td>Android</td>\n",
              "      <td>2</td>\n",
              "      <td>3</td>\n",
              "      <td>0</td>\n",
              "    </tr>\n",
              "    <tr>\n",
              "      <th>239475</th>\n",
              "      <td>244283</td>\n",
              "      <td>FOREX.com US</td>\n",
              "      <td>2</td>\n",
              "      <td>0.0</td>\n",
              "      <td>2.5</td>\n",
              "      <td>3.0</td>\n",
              "      <td>Direct</td>\n",
              "      <td>Direct</td>\n",
              "      <td>18 - 25</td>\n",
              "      <td>Jul 10 2000 12:00AM</td>\n",
              "      <td>Male</td>\n",
              "      <td>iPhone</td>\n",
              "      <td>1</td>\n",
              "      <td>2</td>\n",
              "      <td>2</td>\n",
              "    </tr>\n",
              "    <tr>\n",
              "      <th>239476</th>\n",
              "      <td>244284</td>\n",
              "      <td>FOREX.com US</td>\n",
              "      <td>5</td>\n",
              "      <td>2.0</td>\n",
              "      <td>2.5</td>\n",
              "      <td>4.0</td>\n",
              "      <td>Direct</td>\n",
              "      <td>Direct</td>\n",
              "      <td>36 - 40</td>\n",
              "      <td>Oct  8 1980 12:00AM</td>\n",
              "      <td>Male</td>\n",
              "      <td>Desktop</td>\n",
              "      <td>1</td>\n",
              "      <td>1</td>\n",
              "      <td>0</td>\n",
              "    </tr>\n",
              "  </tbody>\n",
              "</table>\n",
              "<p>239477 rows × 15 columns</p>\n",
              "</div>"
            ],
            "text/plain": [
              "            ID Service Offering  Age Score  ...  Gender_Sort  Device_Sort  Cluster\n",
              "0            1     FOREX.com US          2  ...            1            2        1\n",
              "1            2     FOREX.com US          3  ...            1            1        2\n",
              "2            3     FOREX.com US          2  ...            1            1        1\n",
              "3            4     FOREX.com US          2  ...            2            3        0\n",
              "4            5     FOREX.com US          2  ...            1            1        1\n",
              "...        ...              ...        ...  ...          ...          ...      ...\n",
              "239472  244280     FOREX.com US          3  ...            1            1        1\n",
              "239473  244281     FOREX.com US          3  ...            1            2        0\n",
              "239474  244282     FOREX.com US          4  ...            2            3        0\n",
              "239475  244283     FOREX.com US          2  ...            1            2        2\n",
              "239476  244284     FOREX.com US          5  ...            1            1        0\n",
              "\n",
              "[239477 rows x 15 columns]"
            ]
          },
          "metadata": {
            "tags": []
          },
          "execution_count": 67
        }
      ]
    },
    {
      "cell_type": "markdown",
      "metadata": {
        "id": "16ftso160sqP",
        "colab_type": "text"
      },
      "source": [
        "We can see that every client now has one of the 3 clusters (first one numbered 0) assigned to them in the column **Clusters**."
      ]
    }
  ]
}